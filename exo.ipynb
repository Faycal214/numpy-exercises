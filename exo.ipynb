{
 "cells": [
  {
   "cell_type": "markdown",
   "id": "cd3015e6-f655-4ffc-ba55-dd7e67ff65bc",
   "metadata": {},
   "source": [
    "# exercise 2 :"
   ]
  },
  {
   "cell_type": "code",
   "execution_count": 1,
   "id": "fed5b96b-d403-4cf3-8531-995e9b1bc4ac",
   "metadata": {},
   "outputs": [],
   "source": [
    "import numpy as np"
   ]
  },
  {
   "cell_type": "code",
   "execution_count": 7,
   "id": "edc64c7e-ed20-4794-ac6d-7b183003b2fa",
   "metadata": {},
   "outputs": [
    {
     "data": {
      "text/plain": [
       "array([[ 1,  2,  3,  4,  5,  6,  7,  8,  9, 10],\n",
       "       [11, 12, 13, 14, 15, 16, 17, 18, 19, 20],\n",
       "       [21, 22, 23, 24, 25, 26, 27, 28, 29, 30]])"
      ]
     },
     "execution_count": 7,
     "metadata": {},
     "output_type": "execute_result"
    }
   ],
   "source": [
    "A = np.array([range(1,11),range(11,21),range(21,31)])\n",
    "A"
   ]
  },
  {
   "cell_type": "code",
   "execution_count": 40,
   "id": "c099949f-b146-493e-98ba-c8f4c8d60fff",
   "metadata": {},
   "outputs": [
    {
     "data": {
      "text/plain": [
       "array([[ 1,  2],\n",
       "       [11, 12],\n",
       "       [21, 22]])"
      ]
     },
     "execution_count": 40,
     "metadata": {},
     "output_type": "execute_result"
    }
   ],
   "source": [
    "N = A[:3,:2]\n",
    "N"
   ]
  },
  {
   "cell_type": "code",
   "execution_count": 14,
   "id": "69a61b0b-4ac8-42c9-9fa2-5accfbbca9cf",
   "metadata": {},
   "outputs": [
    {
     "data": {
      "text/plain": [
       "array([[ 8,  9, 10],\n",
       "       [18, 19, 20],\n",
       "       [28, 29, 30]])"
      ]
     },
     "execution_count": 14,
     "metadata": {},
     "output_type": "execute_result"
    }
   ],
   "source": [
    "P = A[:3,-3:]\n",
    "P"
   ]
  },
  {
   "cell_type": "code",
   "execution_count": 39,
   "id": "95cc3a7b-8537-4228-b318-a455e698f7cb",
   "metadata": {},
   "outputs": [
    {
     "data": {
      "text/plain": [
       "array([[ 3,  7],\n",
       "       [23, 27]])"
      ]
     },
     "execution_count": 39,
     "metadata": {},
     "output_type": "execute_result"
    }
   ],
   "source": [
    "b = A[0:3:2,-4::4]\n",
    "a = A[0:3:2,2:3:1]\n",
    "Q = np.concatenate((a,b),axis=1)\n",
    "Q"
   ]
  },
  {
   "cell_type": "markdown",
   "id": "7979aa37-dbcf-4588-b92d-e9e8c732d88e",
   "metadata": {},
   "source": [
    "# exercise 3 :"
   ]
  },
  {
   "cell_type": "code",
   "execution_count": 45,
   "id": "ca3c8b23-d94b-488f-81da-190add9270aa",
   "metadata": {},
   "outputs": [
    {
     "data": {
      "text/plain": [
       "array([[ 1.   ,  4.125,  7.25 , 10.375, 13.5  , 16.625, 19.75 , 22.875,\n",
       "        26.   ],\n",
       "       [72.   , 66.   , 60.   , 54.   , 48.   , 42.   , 36.   , 30.   ,\n",
       "        24.   ],\n",
       "       [ 0.   ,  0.125,  0.25 ,  0.375,  0.5  ,  0.625,  0.75 ,  0.875,\n",
       "         1.   ]])"
      ]
     },
     "execution_count": 45,
     "metadata": {},
     "output_type": "execute_result"
    }
   ],
   "source": [
    "B = np.array((np.linspace(1,26,9),\n",
    "              np.linspace(24,72,9)[::-1],\n",
    "              np.linspace(0,1,9)))\n",
    "B"
   ]
  },
  {
   "cell_type": "markdown",
   "id": "a1e4275f-2754-49a3-833a-c6029bff9115",
   "metadata": {},
   "source": [
    "# exercise 4 :"
   ]
  },
  {
   "cell_type": "code",
   "execution_count": 52,
   "id": "3b200a21-3691-4730-a7c9-58a642cb10ef",
   "metadata": {},
   "outputs": [],
   "source": [
    "from numpy.linalg import *"
   ]
  },
  {
   "cell_type": "code",
   "execution_count": 47,
   "id": "428deda1-4337-4dc1-83f3-bda8a510182d",
   "metadata": {},
   "outputs": [],
   "source": [
    "A = np.array(([1,2,1],[0,1,0],[3,1,2]))\n",
    "B = np.array(([1,2,3],[1,1,2],[0,1,2]))\n",
    "C = np.array(([2,1,1],[0,1,1],[4,2,2]))"
   ]
  },
  {
   "cell_type": "code",
   "execution_count": 48,
   "id": "9c9ce67b-d700-4e2a-a4f4-3f03951c3875",
   "metadata": {},
   "outputs": [
    {
     "data": {
      "text/plain": [
       "array([[ 9, 10, 13],\n",
       "       [ 0,  5,  8],\n",
       "       [ 3,  9, 18]])"
      ]
     },
     "execution_count": 48,
     "metadata": {},
     "output_type": "execute_result"
    }
   ],
   "source": [
    "A + 4*B*C"
   ]
  },
  {
   "cell_type": "code",
   "execution_count": 49,
   "id": "d698e3b6-ca03-47e3-bce7-6d0b7b3473b0",
   "metadata": {},
   "outputs": [
    {
     "data": {
      "text/plain": [
       "array([[ 1,  8,  1],\n",
       "       [ 0,  1,  0],\n",
       "       [27,  1,  8]], dtype=int32)"
      ]
     },
     "execution_count": 49,
     "metadata": {},
     "output_type": "execute_result"
    }
   ],
   "source": [
    "A**3"
   ]
  },
  {
   "cell_type": "code",
   "execution_count": 56,
   "id": "269f21ac-2b0d-46ed-b5b9-bec993dbcbe7",
   "metadata": {},
   "outputs": [
    {
     "name": "stdout",
     "output_type": "stream",
     "text": [
      "determinant de C egale 0.0\n"
     ]
    }
   ],
   "source": [
    "print(f\"determinant de C egale {det(C)}\")"
   ]
  },
  {
   "cell_type": "code",
   "execution_count": 54,
   "id": "fc91bb1c-860b-4f57-8fd9-8ce6feda99fd",
   "metadata": {},
   "outputs": [
    {
     "name": "stdout",
     "output_type": "stream",
     "text": [
      "les valeurs propres de B : [-0.37720285  0.72610945  3.65109341]\n",
      "les vecteur propres de B : [[ 0.44287099  0.71390288  0.7763    ]\n",
      " [-0.82644005  0.5508072   0.53918151]\n",
      " [ 0.34765231 -0.43238189  0.32656027]]\n"
     ]
    }
   ],
   "source": [
    "D , V = eig(B)\n",
    "print(f\"les valeurs propres de B : {D}\")\n",
    "print(f\"les vecteur propres de B : {V}\")"
   ]
  },
  {
   "cell_type": "markdown",
   "id": "2fdc5c8c-4691-4b25-bb0d-22840e5af08d",
   "metadata": {},
   "source": [
    "# exercise 5:"
   ]
  },
  {
   "cell_type": "markdown",
   "id": "7e821ff2-39d0-45d2-810a-ac4e5ec74eb3",
   "metadata": {},
   "source": [
    "1) resolution de systeme suivant :\n",
    "6x + y + 5z = 10 |\n",
    "2x + 2y + 3z = 11 |\n",
    "4x + 9y + 7z = 12"
   ]
  },
  {
   "cell_type": "code",
   "execution_count": 57,
   "id": "c20a186d-a94e-4b33-b7f9-b67ba6169b18",
   "metadata": {},
   "outputs": [
    {
     "data": {
      "text/plain": [
       "array([[6, 1, 5],\n",
       "       [2, 2, 3],\n",
       "       [4, 9, 7]])"
      ]
     },
     "execution_count": 57,
     "metadata": {},
     "output_type": "execute_result"
    }
   ],
   "source": [
    "A = np.array(([6,1,5],[2,2,3],[4,9,7]))\n",
    "A"
   ]
  },
  {
   "cell_type": "code",
   "execution_count": 58,
   "id": "332a3c50-972a-4ddc-97d2-f4945ce224d5",
   "metadata": {},
   "outputs": [
    {
     "data": {
      "text/plain": [
       "array([[10],\n",
       "       [11],\n",
       "       [12]])"
      ]
     },
     "execution_count": 58,
     "metadata": {},
     "output_type": "execute_result"
    }
   ],
   "source": [
    "B = np.array(([10,11,12])).reshape(3,1)\n",
    "B"
   ]
  },
  {
   "cell_type": "code",
   "execution_count": 66,
   "id": "a3f3b06f-c34d-4b7b-ba1f-d594e256b102",
   "metadata": {},
   "outputs": [
    {
     "name": "stdout",
     "output_type": "stream",
     "text": [
      "les solution de ce systeme est :\n",
      "X[0] = [-6.8]\n",
      "X[1] = [-4.2]\n",
      "X[2] = [11.]\n"
     ]
    }
   ],
   "source": [
    "X = np.linalg.solve(A,B)\n",
    "try :\n",
    "    print(\"les solution de ce systeme est :\")\n",
    "    print(f\"X[0] = {X[0]}\")\n",
    "    print(f\"X[1] = {X[1]}\")\n",
    "    print(f\"X[2] = {X[2]}\")\n",
    "except :\n",
    "    print(\"erreur machine singuliere\")"
   ]
  },
  {
   "cell_type": "markdown",
   "id": "5f1d8c58-ef00-42e4-b57b-6b992966014f",
   "metadata": {},
   "source": [
    "# exercise 6 :"
   ]
  },
  {
   "cell_type": "code",
   "execution_count": 71,
   "id": "f3e88f13-0d1a-429e-858b-5d0d140485bf",
   "metadata": {},
   "outputs": [],
   "source": [
    "from scipy import *"
   ]
  },
  {
   "cell_type": "code",
   "execution_count": 83,
   "id": "de1917c6-d1dc-4094-9561-1dca854634d7",
   "metadata": {},
   "outputs": [
    {
     "name": "stdout",
     "output_type": "stream",
     "text": [
      "recherche de minimum de la fonction x**2 + 1 en voisinage de V(1):\n"
     ]
    }
   ],
   "source": [
    "print(\"recherche de minimum de la fonction x**2 + 1 en voisinage de V(1):\")"
   ]
  },
  {
   "cell_type": "code",
   "execution_count": 89,
   "id": "60551756-1ef8-447c-bd43-e4d4f77e915a",
   "metadata": {},
   "outputs": [],
   "source": [
    "f = lambda x : x*x + 1\n",
    "x0 = [0.5]\n",
    "xopt = optimize.minimize(f,x0).x"
   ]
  },
  {
   "cell_type": "code",
   "execution_count": 96,
   "id": "a17bfb08-aaef-450d-8600-51a9909bace3",
   "metadata": {},
   "outputs": [
    {
     "name": "stdout",
     "output_type": "stream",
     "text": [
      "minimum en X = 3.725290242950763e-09\n"
     ]
    }
   ],
   "source": [
    "print(f\"minimum en X = {xopt[0]}\")"
   ]
  },
  {
   "cell_type": "code",
   "execution_count": null,
   "id": "7f6df44b-4982-44ca-a3b3-ffeac10638ec",
   "metadata": {},
   "outputs": [],
   "source": []
  }
 ],
 "metadata": {
  "kernelspec": {
   "display_name": "Python 3 (ipykernel)",
   "language": "python",
   "name": "python3"
  },
  "language_info": {
   "codemirror_mode": {
    "name": "ipython",
    "version": 3
   },
   "file_extension": ".py",
   "mimetype": "text/x-python",
   "name": "python",
   "nbconvert_exporter": "python",
   "pygments_lexer": "ipython3",
   "version": "3.11.5"
  }
 },
 "nbformat": 4,
 "nbformat_minor": 5
}
